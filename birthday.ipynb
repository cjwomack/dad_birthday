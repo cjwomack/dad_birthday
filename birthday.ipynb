{
 "cells": [
  {
   "cell_type": "code",
   "execution_count": 5,
   "id": "278ac92d-12ba-41d8-8b30-ea01a1cca083",
   "metadata": {
    "tags": []
   },
   "outputs": [],
   "source": [
    "from IPython.display import display, HTML\n",
    "from threading import Thread\n",
    "from termcolor import colored\n",
    "import time\n",
    "from random import randint\n",
    "\n",
    "def r_colour():\n",
    "    colours = [\"grey\",\"red\",\"green\",\"white\",\"blue\",\"magenta\",\"cyan\"]\n",
    "    return colours[randint(0,6)]\n",
    "def play_music():\n",
    "    js = \"<script>var myAudio = new Audio('Voice 002.wav');myAudio.play();</script>\"\n",
    "    display(HTML(js))\n",
    "    #sound = AudioSegment.from_wav(r'Voice 002.wav')\n",
    "    #play(sound)\n",
    "\n",
    "def start_music():\n",
    "    music_thread = Thread(target=play_music)\n",
    "    music_thread.start()\n",
    "\n",
    "def play():\n",
    "    play_music()\n",
    "    time.sleep(3)\n",
    "    animation_thread=Thread(target=animation)\n",
    "    animation_thread.start()\n",
    "\n",
    "def animation():\n",
    "    hb_str = \",🎈 Happy Birthday 🎂 to you 🥳     ,🎁 Happy Birthday 🎂 to you 🥳         \"\\\n",
    "        \",🎉 Happy Birthday 🎂 dear Daddy 🧔          ,🎁 Happy Birthday 🎂 to you 🥳          ,\"\\\n",
    "            \"🎈 Hip Hip Hoo ray🎉   ,🎁 Hip Hip Hoo ray🎈  \"\n",
    "    \n",
    "    jgf_str = \"For 🥳 he's a jolly good fellow 🧔         ,for he's a jolly good fellow 🥳          ,\"\\\n",
    "        \"for 🧔 he's a jolly good fellow 🥳                       ,and so say all of us 👩 👧 👨      ,\"\\\n",
    "            \"✨ and so say all of us 👩 👧 👨        ,and so say all of us 👩 👧 👨  ,\"\\\n",
    "            \"for 🥳 he's a jolly good fellow 🧔     ,for 🧔 he's a jolly good fellow 🥳     ,\"\\\n",
    "                \"for 🥳 he's a jolly good fellow 🧔                    \"\n",
    "    #time.sleep(1)\n",
    "    for phrase in hb_str.split(\",\"):\n",
    "        for letter in phrase:\n",
    "            print(colored(letter,r_colour()),end=\"\")\n",
    "            time.sleep(0.085)\n",
    "        print()\n",
    "    \n",
    "    for phrase in jgf_str.split(\",\"):\n",
    "        for letter in phrase:\n",
    "            print(colored(letter,r_colour()),end=\"\")\n",
    "            time.sleep(0.055)\n",
    "        print()\n",
    "    for letter in \"✨ which \":\n",
    "        print(colored(letter,r_colour()),end=\"\")\n",
    "        time.sleep(0.075)\n",
    "    time.sleep(0.25)\n",
    "    for letter in \"🚷 nobody \":\n",
    "        print(colored(letter,r_colour()),end=\"\")\n",
    "        time.sleep(0.075)\n",
    "    time.sleep(0.25)\n",
    "    for letter in \"can deny 🍰 ✨\":\n",
    "        print(colored(letter,r_colour()),end=\"\")\n",
    "        time.sleep(0.075)\n",
    "    print()\n",
    "    time.sleep(30)"
   ]
  },
  {
   "cell_type": "code",
   "execution_count": 6,
   "id": "a23bef29-bb0a-4434-8119-6efbeec094f0",
   "metadata": {},
   "outputs": [
    {
     "data": {
      "text/html": [
       "<script>var myAudio = new Audio('Voice 002.wav');myAudio.play();</script>"
      ],
      "text/plain": [
       "<IPython.core.display.HTML object>"
      ]
     },
     "metadata": {},
     "output_type": "display_data"
    },
    {
     "name": "stdout",
     "output_type": "stream",
     "text": [
      "\n",
      "\u001b[30m🎈\u001b[0m\u001b[30m \u001b[0m\u001b[32mH\u001b[0m\u001b[37ma\u001b[0m\u001b[37mp\u001b[0m\u001b[31mp\u001b[0m\u001b[36my\u001b[0m\u001b[30m \u001b[0m\u001b[31mB\u001b[0m\u001b[36mi\u001b[0m\u001b[31mr\u001b[0m\u001b[34mt\u001b[0m\u001b[37mh\u001b[0m\u001b[37md\u001b[0m\u001b[35ma\u001b[0m\u001b[36my\u001b[0m\u001b[37m \u001b[0m\u001b[32m🎂\u001b[0m\u001b[31m \u001b[0m\u001b[31mt\u001b[0m\u001b[37mo\u001b[0m\u001b[34m \u001b[0m\u001b[36my\u001b[0m\u001b[35mo\u001b[0m\u001b[31mu\u001b[0m\u001b[30m \u001b[0m\u001b[32m🥳\u001b[0m\u001b[36m \u001b[0m\u001b[32m \u001b[0m\u001b[35m \u001b[0m\u001b[31m \u001b[0m\u001b[30m \u001b[0m\n",
      "\u001b[32m🎁\u001b[0m\u001b[30m \u001b[0m\u001b[36mH\u001b[0m\u001b[31ma\u001b[0m\u001b[34mp\u001b[0m\u001b[34mp\u001b[0m\u001b[30my\u001b[0m\u001b[31m \u001b[0m\u001b[34mB\u001b[0m\u001b[36mi\u001b[0m\u001b[32mr\u001b[0m\u001b[36mt\u001b[0m\u001b[35mh\u001b[0m\u001b[32md\u001b[0m\u001b[36ma\u001b[0m\u001b[32my\u001b[0m\u001b[35m \u001b[0m\u001b[30m🎂\u001b[0m\u001b[31m \u001b[0m\u001b[34mt\u001b[0m\u001b[31mo\u001b[0m\u001b[35m \u001b[0m\u001b[35my\u001b[0m\u001b[30mo\u001b[0m\u001b[30mu\u001b[0m\u001b[37m \u001b[0m\u001b[34m🥳\u001b[0m\u001b[34m \u001b[0m\u001b[31m \u001b[0m\u001b[35m \u001b[0m\u001b[31m \u001b[0m\u001b[35m \u001b[0m\u001b[36m \u001b[0m\u001b[36m \u001b[0m\u001b[36m \u001b[0m\u001b[31m \u001b[0m\n",
      "\u001b[35m🎉\u001b[0m\u001b[35m \u001b[0m\u001b[37mH\u001b[0m\u001b[36ma\u001b[0m\u001b[35mp\u001b[0m\u001b[30mp\u001b[0m\u001b[30my\u001b[0m\u001b[31m \u001b[0m\u001b[36mB\u001b[0m\u001b[36mi\u001b[0m\u001b[34mr\u001b[0m\u001b[37mt\u001b[0m\u001b[37mh\u001b[0m\u001b[31md\u001b[0m\u001b[35ma\u001b[0m\u001b[36my\u001b[0m\u001b[32m \u001b[0m\u001b[37m🎂\u001b[0m\u001b[37m \u001b[0m\u001b[32md\u001b[0m\u001b[32me\u001b[0m\u001b[31ma\u001b[0m\u001b[35mr\u001b[0m\u001b[36m \u001b[0m\u001b[30mD\u001b[0m\u001b[31ma\u001b[0m\u001b[35md\u001b[0m\u001b[30md\u001b[0m\u001b[37my\u001b[0m\u001b[32m \u001b[0m\u001b[32m🧔\u001b[0m\u001b[35m \u001b[0m\u001b[30m \u001b[0m\u001b[32m \u001b[0m\u001b[34m \u001b[0m\u001b[31m \u001b[0m\u001b[35m \u001b[0m\u001b[31m \u001b[0m\u001b[31m \u001b[0m\u001b[34m \u001b[0m\u001b[35m \u001b[0m\n",
      "\u001b[30m🎁\u001b[0m\u001b[30m \u001b[0m\u001b[34mH\u001b[0m\u001b[34ma\u001b[0m\u001b[31mp\u001b[0m\u001b[32mp\u001b[0m\u001b[35my\u001b[0m\u001b[37m \u001b[0m\u001b[32mB\u001b[0m\u001b[31mi\u001b[0m\u001b[31mr\u001b[0m\u001b[36mt\u001b[0m\u001b[34mh\u001b[0m\u001b[32md\u001b[0m\u001b[32ma\u001b[0m\u001b[30my\u001b[0m\u001b[30m \u001b[0m\u001b[36m🎂\u001b[0m\u001b[31m \u001b[0m\u001b[36mt\u001b[0m\u001b[32mo\u001b[0m\u001b[37m \u001b[0m\u001b[30my\u001b[0m\u001b[36mo\u001b[0m\u001b[36mu\u001b[0m\u001b[36m \u001b[0m\u001b[36m🥳\u001b[0m\u001b[36m \u001b[0m\u001b[30m \u001b[0m\u001b[37m \u001b[0m\u001b[31m \u001b[0m\u001b[34m \u001b[0m\u001b[37m \u001b[0m\u001b[35m \u001b[0m\u001b[37m \u001b[0m\u001b[35m \u001b[0m\u001b[37m \u001b[0m\n",
      "\u001b[35m🎈\u001b[0m\u001b[32m \u001b[0m\u001b[30mH\u001b[0m\u001b[31mi\u001b[0m\u001b[34mp\u001b[0m\u001b[34m \u001b[0m\u001b[35mH\u001b[0m\u001b[35mi\u001b[0m\u001b[35mp\u001b[0m\u001b[36m \u001b[0m\u001b[30mH\u001b[0m\u001b[30mo\u001b[0m\u001b[36mo\u001b[0m\u001b[35m \u001b[0m\u001b[37mr\u001b[0m\u001b[35ma\u001b[0m\u001b[36my\u001b[0m\u001b[34m🎉\u001b[0m\u001b[37m \u001b[0m\u001b[31m \u001b[0m\u001b[30m \u001b[0m\n",
      "\u001b[32m🎁\u001b[0m\u001b[31m \u001b[0m\u001b[36mH\u001b[0m\u001b[36mi\u001b[0m\u001b[37mp\u001b[0m\u001b[31m \u001b[0m\u001b[31mH\u001b[0m\u001b[34mi\u001b[0m\u001b[35mp\u001b[0m\u001b[32m \u001b[0m\u001b[36mH\u001b[0m\u001b[36mo\u001b[0m\u001b[32mo\u001b[0m\u001b[35m \u001b[0m\u001b[35mr\u001b[0m\u001b[34ma\u001b[0m\u001b[31my\u001b[0m\u001b[32m🎈\u001b[0m\u001b[37m \u001b[0m\u001b[32m \u001b[0m\n",
      "\u001b[34mF\u001b[0m\u001b[37mo\u001b[0m\u001b[36mr\u001b[0m\u001b[35m \u001b[0m\u001b[31m🥳\u001b[0m\u001b[34m \u001b[0m\u001b[34mh\u001b[0m\u001b[34me\u001b[0m\u001b[31m'\u001b[0m\u001b[35ms\u001b[0m\u001b[30m \u001b[0m\u001b[34ma\u001b[0m\u001b[34m \u001b[0m\u001b[31mj\u001b[0m\u001b[30mo\u001b[0m\u001b[34ml\u001b[0m\u001b[35ml\u001b[0m\u001b[30my\u001b[0m\u001b[37m \u001b[0m\u001b[31mg\u001b[0m\u001b[37mo\u001b[0m\u001b[36mo\u001b[0m\u001b[35md\u001b[0m\u001b[35m \u001b[0m\u001b[34mf\u001b[0m\u001b[37me\u001b[0m\u001b[35ml\u001b[0m\u001b[34ml\u001b[0m\u001b[32mo\u001b[0m\u001b[32mw\u001b[0m\u001b[34m \u001b[0m\u001b[37m🧔\u001b[0m\u001b[37m \u001b[0m\u001b[30m \u001b[0m\u001b[34m \u001b[0m\u001b[37m \u001b[0m\u001b[37m \u001b[0m\u001b[34m \u001b[0m\u001b[36m \u001b[0m\u001b[31m \u001b[0m\u001b[37m \u001b[0m\n",
      "\u001b[32mf\u001b[0m\u001b[36mo\u001b[0m\u001b[31mr\u001b[0m\u001b[30m \u001b[0m\u001b[37mh\u001b[0m\u001b[35me\u001b[0m\u001b[34m'\u001b[0m\u001b[31ms\u001b[0m\u001b[34m \u001b[0m\u001b[36ma\u001b[0m\u001b[32m \u001b[0m\u001b[37mj\u001b[0m\u001b[35mo\u001b[0m\u001b[36ml\u001b[0m\u001b[35ml\u001b[0m\u001b[36my\u001b[0m\u001b[35m \u001b[0m\u001b[37mg\u001b[0m\u001b[30mo\u001b[0m\u001b[30mo\u001b[0m\u001b[34md\u001b[0m\u001b[31m \u001b[0m\u001b[35mf\u001b[0m\u001b[36me\u001b[0m\u001b[36ml\u001b[0m\u001b[32ml\u001b[0m\u001b[31mo\u001b[0m\u001b[30mw\u001b[0m\u001b[32m \u001b[0m\u001b[34m🥳\u001b[0m\u001b[36m \u001b[0m\u001b[35m \u001b[0m\u001b[35m \u001b[0m\u001b[34m \u001b[0m\u001b[31m \u001b[0m\u001b[30m \u001b[0m\u001b[34m \u001b[0m\u001b[32m \u001b[0m\u001b[30m \u001b[0m\u001b[37m \u001b[0m\n",
      "\u001b[35mf\u001b[0m\u001b[31mo\u001b[0m\u001b[34mr\u001b[0m\u001b[30m \u001b[0m\u001b[36m🧔\u001b[0m\u001b[36m \u001b[0m\u001b[31mh\u001b[0m\u001b[30me\u001b[0m\u001b[34m'\u001b[0m\u001b[32ms\u001b[0m\u001b[35m \u001b[0m\u001b[36ma\u001b[0m\u001b[35m \u001b[0m\u001b[31mj\u001b[0m\u001b[30mo\u001b[0m\u001b[35ml\u001b[0m\u001b[37ml\u001b[0m\u001b[37my\u001b[0m\u001b[30m \u001b[0m\u001b[37mg\u001b[0m\u001b[30mo\u001b[0m\u001b[30mo\u001b[0m\u001b[32md\u001b[0m\u001b[30m \u001b[0m\u001b[30mf\u001b[0m\u001b[30me\u001b[0m\u001b[31ml\u001b[0m\u001b[32ml\u001b[0m\u001b[30mo\u001b[0m\u001b[34mw\u001b[0m\u001b[30m \u001b[0m\u001b[31m🥳\u001b[0m\u001b[35m \u001b[0m\u001b[30m \u001b[0m\u001b[31m \u001b[0m\u001b[37m \u001b[0m\u001b[32m \u001b[0m\u001b[32m \u001b[0m\u001b[32m \u001b[0m\u001b[34m \u001b[0m\u001b[37m \u001b[0m\u001b[32m \u001b[0m\u001b[35m \u001b[0m\u001b[31m \u001b[0m\u001b[37m \u001b[0m\u001b[37m \u001b[0m\u001b[34m \u001b[0m\u001b[36m \u001b[0m\u001b[35m \u001b[0m\u001b[37m \u001b[0m\u001b[37m \u001b[0m\u001b[36m \u001b[0m\u001b[31m \u001b[0m\u001b[37m \u001b[0m\u001b[34m \u001b[0m\n",
      "\u001b[30ma\u001b[0m\u001b[30mn\u001b[0m\u001b[30md\u001b[0m\u001b[34m \u001b[0m\u001b[32ms\u001b[0m\u001b[30mo\u001b[0m\u001b[36m \u001b[0m\u001b[37ms\u001b[0m\u001b[30ma\u001b[0m\u001b[35my\u001b[0m\u001b[30m \u001b[0m\u001b[35ma\u001b[0m\u001b[35ml\u001b[0m\u001b[36ml\u001b[0m\u001b[32m \u001b[0m\u001b[31mo\u001b[0m\u001b[36mf\u001b[0m\u001b[36m \u001b[0m\u001b[37mu\u001b[0m\u001b[34ms\u001b[0m\u001b[34m \u001b[0m\u001b[34m👩\u001b[0m\u001b[31m \u001b[0m\u001b[30m👧\u001b[0m\u001b[30m \u001b[0m\u001b[31m👨\u001b[0m\u001b[36m \u001b[0m\u001b[30m \u001b[0m\u001b[34m \u001b[0m\u001b[36m \u001b[0m\u001b[37m \u001b[0m\u001b[37m \u001b[0m\n",
      "\u001b[31m✨\u001b[0m\u001b[31m \u001b[0m\u001b[35ma\u001b[0m\u001b[30mn\u001b[0m\u001b[35md\u001b[0m\u001b[32m \u001b[0m\u001b[32ms\u001b[0m\u001b[37mo\u001b[0m\u001b[32m \u001b[0m\u001b[36ms\u001b[0m\u001b[34ma\u001b[0m\u001b[37my\u001b[0m\u001b[36m \u001b[0m\u001b[37ma\u001b[0m\u001b[35ml\u001b[0m\u001b[35ml\u001b[0m\u001b[37m \u001b[0m\u001b[36mo\u001b[0m\u001b[37mf\u001b[0m\u001b[30m \u001b[0m\u001b[32mu\u001b[0m\u001b[35ms\u001b[0m\u001b[34m \u001b[0m\u001b[32m👩\u001b[0m\u001b[32m \u001b[0m\u001b[31m👧\u001b[0m\u001b[37m \u001b[0m\u001b[36m👨\u001b[0m\u001b[37m \u001b[0m\u001b[32m \u001b[0m\u001b[36m \u001b[0m\u001b[35m \u001b[0m\u001b[35m \u001b[0m\u001b[32m \u001b[0m\u001b[34m \u001b[0m\u001b[34m \u001b[0m\n",
      "\u001b[36ma\u001b[0m\u001b[32mn\u001b[0m\u001b[36md\u001b[0m\u001b[32m \u001b[0m\u001b[36ms\u001b[0m\u001b[36mo\u001b[0m\u001b[31m \u001b[0m\u001b[35ms\u001b[0m\u001b[37ma\u001b[0m\u001b[34my\u001b[0m\u001b[37m \u001b[0m\u001b[31ma\u001b[0m\u001b[31ml\u001b[0m\u001b[32ml\u001b[0m\u001b[31m \u001b[0m\u001b[35mo\u001b[0m\u001b[37mf\u001b[0m\u001b[35m \u001b[0m\u001b[34mu\u001b[0m\u001b[31ms\u001b[0m\u001b[36m \u001b[0m\u001b[36m👩\u001b[0m\u001b[30m \u001b[0m\u001b[35m👧\u001b[0m\u001b[35m \u001b[0m\u001b[35m👨\u001b[0m\u001b[32m \u001b[0m\u001b[32m \u001b[0m\n",
      "\u001b[36mf\u001b[0m\u001b[34mo\u001b[0m\u001b[37mr\u001b[0m\u001b[34m \u001b[0m\u001b[30m🥳\u001b[0m\u001b[32m \u001b[0m\u001b[34mh\u001b[0m\u001b[34me\u001b[0m\u001b[35m'\u001b[0m\u001b[34ms\u001b[0m\u001b[32m \u001b[0m\u001b[37ma\u001b[0m\u001b[35m \u001b[0m\u001b[31mj\u001b[0m\u001b[36mo\u001b[0m\u001b[36ml\u001b[0m\u001b[31ml\u001b[0m\u001b[34my\u001b[0m\u001b[35m \u001b[0m\u001b[36mg\u001b[0m\u001b[31mo\u001b[0m\u001b[31mo\u001b[0m\u001b[36md\u001b[0m\u001b[31m \u001b[0m\u001b[30mf\u001b[0m\u001b[31me\u001b[0m\u001b[30ml\u001b[0m\u001b[37ml\u001b[0m\u001b[30mo\u001b[0m\u001b[32mw\u001b[0m\u001b[34m \u001b[0m\u001b[36m🧔\u001b[0m\u001b[32m \u001b[0m\u001b[35m \u001b[0m\u001b[31m \u001b[0m\u001b[34m \u001b[0m\u001b[35m \u001b[0m\n",
      "\u001b[31mf\u001b[0m\u001b[34mo\u001b[0m\u001b[37mr\u001b[0m\u001b[30m \u001b[0m\u001b[37m🧔\u001b[0m\u001b[32m \u001b[0m\u001b[30mh\u001b[0m\u001b[30me\u001b[0m\u001b[35m'\u001b[0m\u001b[34ms\u001b[0m\u001b[30m \u001b[0m\u001b[37ma\u001b[0m\u001b[30m \u001b[0m\u001b[35mj\u001b[0m\u001b[35mo\u001b[0m\u001b[32ml\u001b[0m\u001b[30ml\u001b[0m\u001b[32my\u001b[0m\u001b[34m \u001b[0m\u001b[34mg\u001b[0m\u001b[37mo\u001b[0m\u001b[32mo\u001b[0m\u001b[32md\u001b[0m\u001b[37m \u001b[0m\u001b[34mf\u001b[0m\u001b[37me\u001b[0m\u001b[30ml\u001b[0m\u001b[36ml\u001b[0m\u001b[36mo\u001b[0m\u001b[30mw\u001b[0m\u001b[34m \u001b[0m\u001b[31m🥳\u001b[0m\u001b[30m \u001b[0m\u001b[32m \u001b[0m\u001b[34m \u001b[0m\u001b[34m \u001b[0m\u001b[35m \u001b[0m\n",
      "\u001b[30mf\u001b[0m\u001b[36mo\u001b[0m\u001b[31mr\u001b[0m\u001b[32m \u001b[0m\u001b[35m🥳\u001b[0m\u001b[37m \u001b[0m\u001b[30mh\u001b[0m\u001b[32me\u001b[0m\u001b[34m'\u001b[0m\u001b[37ms\u001b[0m\u001b[37m \u001b[0m\u001b[32ma\u001b[0m\u001b[36m \u001b[0m\u001b[31mj\u001b[0m\u001b[34mo\u001b[0m\u001b[34ml\u001b[0m\u001b[35ml\u001b[0m\u001b[32my\u001b[0m\u001b[36m \u001b[0m\u001b[36mg\u001b[0m\u001b[36mo\u001b[0m\u001b[35mo\u001b[0m\u001b[31md\u001b[0m\u001b[35m \u001b[0m\u001b[35mf\u001b[0m\u001b[36me\u001b[0m\u001b[30ml\u001b[0m\u001b[31ml\u001b[0m\u001b[30mo\u001b[0m\u001b[36mw\u001b[0m\u001b[30m \u001b[0m\u001b[34m🧔\u001b[0m\u001b[36m \u001b[0m\u001b[32m \u001b[0m\u001b[32m \u001b[0m\u001b[31m \u001b[0m\u001b[31m \u001b[0m\u001b[35m \u001b[0m\u001b[35m \u001b[0m\u001b[37m \u001b[0m\u001b[31m \u001b[0m\u001b[35m \u001b[0m\u001b[34m \u001b[0m\u001b[31m \u001b[0m\u001b[37m \u001b[0m\u001b[30m \u001b[0m\u001b[35m \u001b[0m\u001b[36m \u001b[0m\u001b[30m \u001b[0m\u001b[34m \u001b[0m\u001b[32m \u001b[0m\u001b[31m \u001b[0m\n",
      "\u001b[35m✨\u001b[0m\u001b[30m \u001b[0m\u001b[35mw\u001b[0m\u001b[36mh\u001b[0m\u001b[34mi\u001b[0m\u001b[30mc\u001b[0m\u001b[31mh\u001b[0m\u001b[31m \u001b[0m\u001b[34m🚷\u001b[0m\u001b[31m \u001b[0m\u001b[36mn\u001b[0m\u001b[34mo\u001b[0m\u001b[30mb\u001b[0m\u001b[31mo\u001b[0m\u001b[37md\u001b[0m\u001b[37my\u001b[0m\u001b[34m \u001b[0m\u001b[32mc\u001b[0m\u001b[35ma\u001b[0m\u001b[30mn\u001b[0m\u001b[32m \u001b[0m\u001b[37md\u001b[0m\u001b[30me\u001b[0m\u001b[32mn\u001b[0m\u001b[30my\u001b[0m\u001b[34m \u001b[0m\u001b[35m🍰\u001b[0m\u001b[36m \u001b[0m\u001b[32m✨\u001b[0m\n"
     ]
    }
   ],
   "source": [
    "play()"
   ]
  },
  {
   "cell_type": "code",
   "execution_count": null,
   "id": "a1c5de2f-a72a-40ec-afa5-dbc31f446a7b",
   "metadata": {},
   "outputs": [],
   "source": []
  }
 ],
 "metadata": {
  "kernelspec": {
   "display_name": "Python 3 (ipykernel)",
   "language": "python",
   "name": "python3"
  },
  "language_info": {
   "codemirror_mode": {
    "name": "ipython",
    "version": 3
   },
   "file_extension": ".py",
   "mimetype": "text/x-python",
   "name": "python",
   "nbconvert_exporter": "python",
   "pygments_lexer": "ipython3",
   "version": "3.8.10"
  }
 },
 "nbformat": 4,
 "nbformat_minor": 5
}
